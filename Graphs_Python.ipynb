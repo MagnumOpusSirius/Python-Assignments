{
  "nbformat": 4,
  "nbformat_minor": 0,
  "metadata": {
    "colab": {
      "provenance": [],
      "include_colab_link": true
    },
    "kernelspec": {
      "display_name": "Python 3",
      "language": "python",
      "name": "python3"
    },
    "language_info": {
      "codemirror_mode": {
        "name": "ipython",
        "version": 3
      },
      "file_extension": ".py",
      "mimetype": "text/x-python",
      "name": "python",
      "nbconvert_exporter": "python",
      "pygments_lexer": "ipython3",
      "version": "3.7.4"
    }
  },
  "cells": [
    {
      "cell_type": "markdown",
      "metadata": {
        "id": "view-in-github",
        "colab_type": "text"
      },
      "source": [
        "<a href=\"https://colab.research.google.com/github/notpromising/Python-Assignments/blob/main/Graphs_Python.ipynb\" target=\"_parent\"><img src=\"https://colab.research.google.com/assets/colab-badge.svg\" alt=\"Open In Colab\"/></a>"
      ]
    },
    {
      "cell_type": "markdown",
      "metadata": {
        "id": "vRjM8ZU5C7SD"
      },
      "source": [
        "Before you turn this problem in, make sure everything runs as expected. First, **restart the kernel** (in the menubar, select Kernel$\\rightarrow$Restart) and then **run all cells** (in the menubar, select Cell$\\rightarrow$Run All).\n",
        "\n",
        "Make sure you fill in any place that says `YOUR CODE HERE` or \"YOUR ANSWER HERE\", as well as your name and collaborators below:"
      ]
    },
    {
      "cell_type": "code",
      "metadata": {
        "id": "I8Mk_uYjC7SG"
      },
      "source": [
        "NAME = \"Parth Mahale\"\n",
        "COLLABORATORS = \"\""
      ],
      "execution_count": null,
      "outputs": []
    },
    {
      "cell_type": "markdown",
      "metadata": {
        "id": "r_e5CAWNC7SK"
      },
      "source": [
        "---"
      ]
    },
    {
      "cell_type": "markdown",
      "metadata": {
        "deletable": false,
        "editable": false,
        "nbgrader": {
          "cell_type": "markdown",
          "checksum": "39abbbd1d4ce32a66b348ce770538de7",
          "grade": false,
          "grade_id": "cell-5385e02c82c53cee",
          "locked": true,
          "schema_version": 3,
          "solution": false,
          "task": false
        },
        "id": "xubye818C7SL"
      },
      "source": [
        "# Assignment 10: Graphs\n",
        "\n",
        "_This notebook is a derivative work of [\"Expressions as Classes\"](https://colab.research.google.com/drive/1qO-GOb5KJz9WucdOswISkM8hILwLDUo9) by [Luca de Alfaro](https://sites.google.com/a/ucsc.edu/luca/home), which is licensed under [CC BY-NC-ND 4.0](https://creativecommons.org/licenses/by-nc-nd/4.0/), distributed by permission of the original author.  This notebook is licensed under [CC BY-NC-ND 4.0](https://creativecommons.org/licenses/by-nc-nd/4.0/) by [Peter Alvaro](https://users.soe.ucsc.edu/~palvaro/)._"
      ]
    },
    {
      "cell_type": "markdown",
      "metadata": {
        "deletable": false,
        "editable": false,
        "nbgrader": {
          "cell_type": "markdown",
          "checksum": "5a43282d8534aa226326316f72c6f7b1",
          "grade": false,
          "grade_id": "cell-5b06e263ac0d930e",
          "locked": true,
          "schema_version": 3,
          "solution": false
        },
        "id": "bR78lr8oC7SN"
      },
      "source": [
        "# Instructions\n",
        "\n",
        "## Notebook Format\n",
        "\n",
        "This is a homework notebook.  It consists of various types of cells: \n",
        "\n",
        "* Text cells: you should read them!\n",
        "* Code cells: you should run them, as they may set up the problems that you are asked to solve.\n",
        "* **Solution** cells: These are cells where you should enter a solution.  You will see a marker in these cells that indicates where your work should be inserted:  \n",
        "\n",
        "```\n",
        "    # YOUR CODE HERE\n",
        "```    \n",
        "\n",
        "* Test cells: These cells contain some tests, and are worth some points.  You should run the cells as a way to debug your code, and to see if you understood the question, and whether the output of your code is produced in the correct format.\n",
        "\n",
        "**When we grade your notebook, we will run many additional tests in addition to the ones you see here.  (Otherwise, you'd be able to get full credit by hard-coding the desired output!)**"
      ]
    },
    {
      "cell_type": "markdown",
      "metadata": {
        "deletable": false,
        "editable": false,
        "nbgrader": {
          "cell_type": "markdown",
          "checksum": "c1dd4fb8158a602bdd8e880140e25f23",
          "grade": false,
          "grade_id": "cell-c4cd419f461cda09",
          "locked": true,
          "schema_version": 3,
          "solution": false,
          "task": false
        },
        "id": "aRSVtAzyC7SO"
      },
      "source": [
        "## Working on Your Notebook\n",
        "\n",
        "To work on your notebook, we recommend using Colab.  Working in Colab has many benefits:\n",
        "\n",
        "  * You don't have to maintain a working Python environment on your own machine; you can work from any machine that has an internet connection.\n",
        "  * Colab preserves the revision history, which is useful for many reasons.\n",
        "  * Your work is automatically saved in Google Drive.\n",
        "  \n",
        "In Colab, go to \"File > Save a copy in Drive...\" and then you'll have your own copy to work on."
      ]
    },
    {
      "cell_type": "markdown",
      "metadata": {
        "deletable": false,
        "editable": false,
        "nbgrader": {
          "cell_type": "markdown",
          "checksum": "f148b7e6a5db5702f81cddb329206bb0",
          "grade": false,
          "grade_id": "cell-2360b9bd4f150e2d",
          "locked": true,
          "schema_version": 3,
          "solution": false,
          "task": false
        },
        "id": "L6unUaKiC7SQ"
      },
      "source": [
        "## Submitting Your Notebook\n",
        "\n",
        "Before you turn your finished notebook in, it's a good idea to sure everything runs as expected. First, **factory reset the runtime** in Colab (go to \"Runtime > Factory reset runtime\").  Then, **run all the cells** (go to \"Runtime > Run all\") in Colab.\n",
        "\n",
        "Submit your work as follows: \n",
        "\n",
        "  * Download the notebook from Colab, clicking on \"File > Download .ipynb\".\n",
        "  * Upload the resulting file to [this Google form](https://docs.google.com/forms/d/e/1FAIpQLSdZGL7tDOWYSaiTOQUz9snLSxdzjO3Q4DWkAjweFgcVvaxvVA/viewform?usp=sf_link).\n",
        "  * **Deadline: 9pm Tuesday, March 3.**\n",
        "\n",
        "You can submit multiple times, and the last submission before the deadline will be used to assign you a grade.\n",
        "\n",
        "Make sure you fill in any place that says `YOUR CODE HERE` or \"YOUR ANSWER HERE\", as well as your name and the names of anyone you collaborated with in the below cells.  For collaborators, list anyone who (for example) discussed the general techniques involved with you, or pointed you to useful Python documentation -- collaboration of that kind is encouraged.  Remember that sharing code or using others' code is not allowed."
      ]
    },
    {
      "cell_type": "code",
      "metadata": {
        "id": "9tdFMOGeC7SR"
      },
      "source": [
        "NAME = \"Parth Mahale\"\n",
        "COLLABORATORS = \"\""
      ],
      "execution_count": null,
      "outputs": []
    },
    {
      "cell_type": "markdown",
      "metadata": {
        "deletable": false,
        "editable": false,
        "nbgrader": {
          "cell_type": "markdown",
          "checksum": "accadbdde7a42580ec4a53a0ca4f7dc6",
          "grade": false,
          "grade_id": "cell-c7df26aff022ad46",
          "locked": true,
          "schema_version": 3,
          "solution": false,
          "task": false
        },
        "id": "vbZvBY4YC7SU"
      },
      "source": [
        "## What Happens Next? \n",
        "\n",
        "After you submit your notebook, your instructor at some point will retreat to a secret hideout, put on some good music, and run some mysterious scripts.  These will generate two things: \n",
        "\n",
        "  * Your grade, which goes into a spreadsheet. \n",
        "  * Feedback, shared to you as a PDF file on Google Drive.  The PDF shows your work, your grade, the tests that passed and those that failed, and any comments left by the instructor and the TAs."
      ]
    },
    {
      "cell_type": "markdown",
      "metadata": {
        "deletable": false,
        "editable": false,
        "nbgrader": {
          "cell_type": "markdown",
          "checksum": "d31cb6485de1dc5f69570e2d5e522cab",
          "grade": false,
          "grade_id": "cell-939a99101a208f69",
          "locked": true,
          "schema_version": 3,
          "solution": false,
          "task": false
        },
        "id": "U8oC8tRKC7SV"
      },
      "source": [
        "# Testing\n",
        "\n",
        "Make sure to run the following cell to make sure that the Python testing framework, `nose`, is installed.  (It's required for the rest of the notebook to work.)"
      ]
    },
    {
      "cell_type": "code",
      "metadata": {
        "deletable": false,
        "editable": false,
        "nbgrader": {
          "cell_type": "code",
          "checksum": "d253a6068affa77a33ff2b2bd6632f1c",
          "grade": false,
          "grade_id": "cell-40563cbe5c8f8ad1",
          "locked": true,
          "schema_version": 3,
          "solution": false,
          "task": false
        },
        "id": "_QyfVsynC7SW"
      },
      "source": [
        "try:\n",
        "    from nose.tools import assert_equal, assert_almost_equal\n",
        "    from nose.tools import assert_true, assert_false\n",
        "    from nose.tools import assert_not_equal, assert_greater_equal\n",
        "except:\n",
        "    !pip install nose\n",
        "    from nose.tools import assert_equal, assert_almost_equal\n",
        "    from nose.tools import assert_true, assert_false\n",
        "    from nose.tools import assert_not_equal, assert_greater_equal"
      ],
      "execution_count": null,
      "outputs": []
    },
    {
      "cell_type": "markdown",
      "metadata": {
        "deletable": false,
        "editable": false,
        "nbgrader": {
          "cell_type": "markdown",
          "checksum": "9a959efb110fc004fbbb5d106297822e",
          "grade": false,
          "grade_id": "cell-431f93269dced8f4",
          "locked": true,
          "schema_version": 3,
          "solution": false,
          "task": false
        },
        "id": "lsSDrtXyC7SZ"
      },
      "source": [
        "## Graphs\n",
        "\n",
        "In lecture Tuesday, we covered graphs in the abstract, and then went on to implement a graph class endowed with methods to add nodes and edges, to determine the successors of a given node, and ultimately to determine the set of nodes that are *reachable* from a given starting node (the transitive closure of successor).\n",
        "\n",
        "So far, all of the graph operations we studied involve a single graph.  Often, we want to combine or compare multiple graphs, much as we do with collections.\n",
        "\n",
        "What are useful, general operations over pairs of graphs that we may implement?  Here are a few. \n",
        "\n",
        "*   **Union** and **intersection**. \n",
        "*   **Induced:** given a graph $G = (V, E)$ and a set of vertices $U$, we return the graph with set of vertices $V \\cap U$ and set of edges $E \\cap (V\\cap U \\times V \\cap U)$. This is the portion of the original graph that only involves vertices in V. \n",
        "* **Difference:** Remove, from a graph $G$, all vertices in a specified set $U$, along with the edges that have an endpoint in $U$. \n",
        "\n",
        "Let us add these implementations."
      ]
    },
    {
      "cell_type": "code",
      "metadata": {
        "deletable": false,
        "editable": false,
        "nbgrader": {
          "cell_type": "code",
          "checksum": "c366ebe59d3d0b5db0adc198b7d666c3",
          "grade": false,
          "grade_id": "cell-1e378025a172fc78",
          "locked": true,
          "schema_version": 3,
          "solution": false,
          "task": false
        },
        "id": "SblOEHOdC7Sa"
      },
      "source": [
        "import networkx as nx # Library for displaying graphs.\n",
        "\n",
        "class Graph(object):\n",
        "    \n",
        "    def __init__(self, vertices=None, edges=None):\n",
        "        self.s = {u: set() for u in vertices or []}\n",
        "        for u, v in (edges or []):\n",
        "            self.add_edge((u, v))\n",
        "        \n",
        "    def show(self):\n",
        "        g = nx.DiGraph()\n",
        "        g.add_nodes_from(self.s.keys())\n",
        "        g.add_edges_from([(u, v) for u in self.s for v in self.s[u]]) \n",
        "        nx.draw(g, with_labels=True)\n",
        "        \n",
        "\n",
        "    @property\n",
        "    def vertices(self):\n",
        "        return set(self.s.keys())\n",
        "\n",
        "    @property\n",
        "    def edges(self):\n",
        "        return {(u, v) for u, d in self.s.items() for v in d}\n",
        "\n",
        "    def __eq__(self, other):\n",
        "        \"\"\"We need to define graph equality.\"\"\"\n",
        "        if self.vertices != other.vertices:\n",
        "            return False\n",
        "        for v, d in self.s.items():\n",
        "            if d != other.s[v]:\n",
        "                return False\n",
        "        return True\n",
        "    \n",
        "    def __repr__(self):\n",
        "        r = \"Graph:\"\n",
        "        for v in self.vertices:\n",
        "            r += \"\\n %r : %r\" % (v, self.s.get(v))\n",
        "        return r\n",
        "                    \n",
        "    def show(self):\n",
        "        g = nx.DiGraph()\n",
        "        g.add_nodes_from(self.vertices)\n",
        "        g.add_edges_from([(u, v) for u in self.vertices for v in self.s[u]]) \n",
        "        nx.draw(g, with_labels=True)\n",
        "        \n",
        "    def add_vertex(self, v):\n",
        "        self.vertices.add(v)\n",
        "        # We must be careful not to overwrite the successor relation\n",
        "        # in case v might already be present in the graph.\n",
        "        self.s[v] = self.s.get(v, set())\n",
        "        \n",
        "    def add_edge(self, e):\n",
        "        \"\"\"Adds an edge e = (u, v) between two vertices u, v.  If the \n",
        "        two vertices are not already in the graph, adds them.\"\"\"\n",
        "        u, v = e\n",
        "        self.vertices.update({u, v})\n",
        "        # Initializes the successor function if needed.\n",
        "        self.s[u] = self.s.get(u, set()) | {v}\n",
        "        self.s[v] = self.s.get(v, set())\n",
        "        \n",
        "    def successors(self, u):\n",
        "        \"\"\"Returns the set of successors of a vertex u\"\"\"\n",
        "        return self.s[u]\n",
        "    \n",
        "    def reachable(self, v):\n",
        "        \"\"\"Returns the set of vertices reachable from an initial vertex v.\"\"\"\n",
        "        vopen = {v}\n",
        "        vclosed = set()\n",
        "        while len(vopen) > 0:\n",
        "            u = vopen.pop()\n",
        "            vclosed.add(u)\n",
        "            vopen.update(self.s[u] - vclosed)\n",
        "        return vclosed\n",
        "    \n",
        "    def __and__(self, g):\n",
        "        \"\"\"Returns the intersection of the current graph with a \n",
        "        specified graph g.\"\"\"\n",
        "        return Graph(vertices=self.vertices & g.vertices, \n",
        "                     edges=self.edges & g.edges)\n",
        "    \n",
        "    def induced(self, vertex_set):\n",
        "        \"\"\"Returns the subgraph induced by the set of vertices vertex_set.\"\"\"\n",
        "        common_vertices = vertex_set & self.vertices \n",
        "        gg = Graph(vertices = common_vertices)\n",
        "        for v in common_vertices:\n",
        "            gg.s[v] = self.s[v] & common_vertices\n",
        "        gg._check()\n",
        "        return gg\n",
        "\n"
      ],
      "execution_count": null,
      "outputs": []
    },
    {
      "cell_type": "markdown",
      "metadata": {
        "deletable": false,
        "editable": false,
        "nbgrader": {
          "cell_type": "markdown",
          "checksum": "790096c7bef6d615af70bd83fe4cd6f0",
          "grade": false,
          "grade_id": "cell-9720360b76302fab",
          "locked": true,
          "schema_version": 3,
          "solution": false,
          "task": false
        },
        "id": "EfMTkeGkC7Sd"
      },
      "source": [
        "## Problem 1: Implement Graph Union\n",
        "\n",
        "\n",
        "Write a `union` method for a graph so that, for $G_1 = (V_1, E_1)$ and $G_2 = (V_2, E_2)$, with $G_1$ represented by `g1` in code and $G_2$ represented by `g2`, \n",
        "\n",
        "    g1 | g2\n",
        "\n",
        "returns the graph $G_{12} = (V_1 \\cup V_2, E_1 \\cup E_2)$ having as vertices the union of the vertices of $G_1$ and $G_2$, and as edges the union of the edges of $G_1$ and $G_2$.\n"
      ]
    },
    {
      "cell_type": "code",
      "metadata": {
        "deletable": false,
        "nbgrader": {
          "cell_type": "code",
          "checksum": "1311443847a8f18c1d21fcdfb70d231d",
          "grade": false,
          "grade_id": "cell-612487afbefac1d2",
          "locked": false,
          "schema_version": 3,
          "solution": true,
          "task": false
        },
        "id": "XWYJBytCC7Se"
      },
      "source": [
        "# Implement graph union\n",
        "\n",
        "def graph_union(self, g):\n",
        "    \"\"\"Returns the union of the current graph, and of the graph g.\"\"\"\n",
        "    u_edge=self.edges.union(g.edges)\n",
        "    u_vert=self.vertices.union(g.vertices)\n",
        "    g= Graph(u_vert, u_edge)\n",
        "    \n",
        "    return g\n",
        "\n",
        "Graph.__or__ = graph_union"
      ],
      "execution_count": null,
      "outputs": []
    },
    {
      "cell_type": "code",
      "metadata": {
        "deletable": false,
        "editable": false,
        "nbgrader": {
          "cell_type": "code",
          "checksum": "58d78001b38e18dc09799a476bbf7594",
          "grade": true,
          "grade_id": "cell-67f93d6ff88cb460",
          "locked": true,
          "points": 10,
          "schema_version": 3,
          "solution": false,
          "task": false
        },
        "id": "A0PtK996C7Si"
      },
      "source": [
        "#Tests for graph union \n",
        "\n",
        "# Disjoint graphs. \n",
        "g1 = Graph(vertices=[1, 3, 2], edges=[(1, 3), (2, 3)])\n",
        "g2 = Graph(vertices=[4, 5], edges=[(4, 5)])\n",
        "g = g1 | g2\n",
        "assert_equal(g.vertices, {1, 2, 3, 4, 5})\n",
        "assert_true((2, 3) in g.edges)\n",
        "assert_true((4, 5) in g.edges)\n",
        "assert_false((1, 4) in g.edges)\n",
        "g3 = g2 | g1\n",
        "assert_equal(g, g3)"
      ],
      "execution_count": null,
      "outputs": []
    },
    {
      "cell_type": "code",
      "metadata": {
        "deletable": false,
        "editable": false,
        "nbgrader": {
          "cell_type": "code",
          "checksum": "4c260465e4a8bcf21ebf1e869d12c28a",
          "grade": true,
          "grade_id": "cell-956350eb04c6bcec",
          "locked": true,
          "points": 10,
          "schema_version": 3,
          "solution": false,
          "task": false
        },
        "id": "YiwlzUHaC7Sk"
      },
      "source": [
        "# More tests for graph union\n",
        "\n",
        "# Overlapping graphs.\n",
        "g1 = Graph(vertices=['a', 'b', 'c'], edges=[('a', 'b'), ('b', 'c')])\n",
        "g2 = Graph(vertices=['b', 'c', 'd', 'e'], edges=[('c', 'd'), ('b', 'c')])\n",
        "g = g1 | g2\n",
        "assert_equal(g.vertices, {'a', 'b', 'c', 'd', 'e'})\n",
        "assert_equal(g.edges, {('a', 'b'), ('b', 'c'), ('c', 'd')})\n",
        "g3 = g2 | g1\n",
        "assert_equal(g, g3)"
      ],
      "execution_count": null,
      "outputs": []
    },
    {
      "cell_type": "code",
      "metadata": {
        "deletable": false,
        "editable": false,
        "nbgrader": {
          "cell_type": "code",
          "checksum": "9e53811f6a131dfa1d7fbef85b903dc5",
          "grade": true,
          "grade_id": "cell-e7a96367aee23c84",
          "locked": true,
          "points": 10,
          "schema_version": 3,
          "solution": false,
          "task": false
        },
        "id": "yv-kyukDC7Sq"
      },
      "source": [
        "# Even more tests for graph union\n",
        "\n",
        "# Empty graph.\n",
        "g1 = Graph(vertices=[1, 3, 2], edges=[(1, 3), (2, 3)])\n",
        "g2 = Graph()\n",
        "g = g1 | g2\n",
        "assert_equal(g, g1)"
      ],
      "execution_count": null,
      "outputs": []
    },
    {
      "cell_type": "markdown",
      "metadata": {
        "id": "_l11_HzGC7St"
      },
      "source": [
        "## Problem 2:  Is a graph a tree? \n",
        "\n",
        "A tree is a graph $(V, E)$ with two special properties: \n",
        "\n",
        "* Every vertex has at most one incoming edge (or a single *parent*, as we discussed in class).\n",
        "* Either there are no vertices, or there is a vertex with no incoming edges (parents), called the _root_, from which all other vertices are reachable. \n",
        "\n",
        "If the second property does not hold, incidentally, the graph is called a _forest._\n",
        "\n",
        "Write an `is_tree` property that has value True if the graph is a tree, and has value False otherwise."
      ]
    },
    {
      "cell_type": "code",
      "metadata": {
        "deletable": false,
        "nbgrader": {
          "cell_type": "code",
          "checksum": "f1735fdf4a6fa4739d046fcb34a72c66",
          "grade": false,
          "grade_id": "cell-cc5d32aa6cd9babe",
          "locked": false,
          "schema_version": 3,
          "solution": true,
          "task": false
        },
        "id": "2B30NaKdC7Su"
      },
      "source": [
        " #Implementation of tree test\n",
        "\n",
        "def graph_is_tree(self):\n",
        "    \"\"\"Returns True iff the graph is a tree.\"\"\"\n",
        "    if type(self) != Graph: \n",
        "      return False\n",
        "    for i in self.vertices:\n",
        "      if len(self.reachable(i)) < 1:\n",
        "        return True\n",
        "      \n",
        "\n",
        "    n = None\n",
        "    for i, j in g.edges:\n",
        "      if j == n: \n",
        "        return False\n",
        "      n = j\n",
        "    return True\n",
        "\n",
        "Graph.is_tree = property(graph_is_tree)"
      ],
      "execution_count": null,
      "outputs": []
    },
    {
      "cell_type": "code",
      "metadata": {
        "deletable": false,
        "editable": false,
        "nbgrader": {
          "cell_type": "code",
          "checksum": "d31dc0f06da2093634f727ed9804d4b6",
          "grade": true,
          "grade_id": "cell-06ff4eefde003bcf",
          "locked": true,
          "points": 10,
          "schema_version": 3,
          "solution": false,
          "task": false
        },
        "id": "FvoHJW6EC7Sx"
      },
      "source": [
        " #Tests for `is_tree`\n",
        "\n",
        "g = Graph(vertices=[1, 2, 3], edges=[(1, 2), (1, 3)])\n",
        "assert_true(g.is_tree)\n",
        "g = Graph(vertices=[1, 2, 3], edges=[(1, 2), (2, 3), (1, 3)])\n",
        "assert_false(g.is_tree)\n",
        "g = Graph(vertices=[1, 2, 3], edges=[(1, 3), (2, 3)])\n",
        "assert_false(g.is_tree)"
      ],
      "execution_count": null,
      "outputs": []
    },
    {
      "cell_type": "code",
      "metadata": {
        "deletable": false,
        "editable": false,
        "nbgrader": {
          "cell_type": "code",
          "checksum": "94b027ee3b3c2bb93eca8a6774dd7e83",
          "grade": true,
          "grade_id": "cell-3e480dc41ae6cd4f",
          "locked": true,
          "points": 10,
          "schema_version": 3,
          "solution": false,
          "task": false
        },
        "id": "5Car46klC7S0"
      },
      "source": [
        "#More tests for `is_tree`\n",
        "\n",
        "g = Graph()\n",
        "assert_true(g.is_tree)\n"
      ],
      "execution_count": null,
      "outputs": []
    }
  ]
}